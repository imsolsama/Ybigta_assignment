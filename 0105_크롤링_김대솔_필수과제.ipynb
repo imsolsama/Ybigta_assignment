{
 "cells": [
  {
   "cell_type": "code",
   "execution_count": 1,
   "id": "c9de8eb4",
   "metadata": {},
   "outputs": [
    {
     "name": "stdout",
     "output_type": "stream",
     "text": [
      "Requirement already satisfied: selenium==4.8.2 in c:\\users\\user\\anaconda3\\lib\\site-packages (4.8.2)\n",
      "Requirement already satisfied: trio~=0.17 in c:\\users\\user\\anaconda3\\lib\\site-packages (from selenium==4.8.2) (0.24.0)\n",
      "Requirement already satisfied: urllib3[socks]~=1.26 in c:\\users\\user\\anaconda3\\lib\\site-packages (from selenium==4.8.2) (1.26.11)\n",
      "Requirement already satisfied: trio-websocket~=0.9 in c:\\users\\user\\anaconda3\\lib\\site-packages (from selenium==4.8.2) (0.11.1)\n",
      "Requirement already satisfied: certifi>=2021.10.8 in c:\\users\\user\\anaconda3\\lib\\site-packages (from selenium==4.8.2) (2022.9.14)\n",
      "Requirement already satisfied: cffi>=1.14 in c:\\users\\user\\anaconda3\\lib\\site-packages (from trio~=0.17->selenium==4.8.2) (1.15.1)\n",
      "Requirement already satisfied: exceptiongroup in c:\\users\\user\\anaconda3\\lib\\site-packages (from trio~=0.17->selenium==4.8.2) (1.2.0)\n",
      "Requirement already satisfied: idna in c:\\users\\user\\anaconda3\\lib\\site-packages (from trio~=0.17->selenium==4.8.2) (3.3)\n",
      "Requirement already satisfied: outcome in c:\\users\\user\\anaconda3\\lib\\site-packages (from trio~=0.17->selenium==4.8.2) (1.3.0.post0)\n",
      "Requirement already satisfied: sniffio>=1.3.0 in c:\\users\\user\\anaconda3\\lib\\site-packages (from trio~=0.17->selenium==4.8.2) (1.3.0)\n",
      "Requirement already satisfied: sortedcontainers in c:\\users\\user\\anaconda3\\lib\\site-packages (from trio~=0.17->selenium==4.8.2) (2.4.0)\n",
      "Requirement already satisfied: attrs>=20.1.0 in c:\\users\\user\\anaconda3\\lib\\site-packages (from trio~=0.17->selenium==4.8.2) (21.4.0)\n",
      "Requirement already satisfied: wsproto>=0.14 in c:\\users\\user\\anaconda3\\lib\\site-packages (from trio-websocket~=0.9->selenium==4.8.2) (1.2.0)\n",
      "Requirement already satisfied: PySocks!=1.5.7,<2.0,>=1.5.6 in c:\\users\\user\\anaconda3\\lib\\site-packages (from urllib3[socks]~=1.26->selenium==4.8.2) (1.7.1)\n",
      "Requirement already satisfied: pycparser in c:\\users\\user\\anaconda3\\lib\\site-packages (from cffi>=1.14->trio~=0.17->selenium==4.8.2) (2.21)\n",
      "Requirement already satisfied: h11<1,>=0.9.0 in c:\\users\\user\\anaconda3\\lib\\site-packages (from wsproto>=0.14->trio-websocket~=0.9->selenium==4.8.2) (0.14.0)\n",
      "Note: you may need to restart the kernel to use updated packages.\n"
     ]
    }
   ],
   "source": [
    "pip install selenium==4.8.2"
   ]
  },
  {
   "cell_type": "code",
   "execution_count": 1,
   "id": "8a940340",
   "metadata": {},
   "outputs": [
    {
     "name": "stdout",
     "output_type": "stream",
     "text": [
      "Requirement already satisfied: webdriver_manager in c:\\users\\user\\anaconda3\\lib\\site-packages (4.0.1)\n",
      "Requirement already satisfied: requests in c:\\users\\user\\anaconda3\\lib\\site-packages (from webdriver_manager) (2.28.1)\n",
      "Requirement already satisfied: packaging in c:\\users\\user\\anaconda3\\lib\\site-packages (from webdriver_manager) (21.3)\n",
      "Requirement already satisfied: python-dotenv in c:\\users\\user\\anaconda3\\lib\\site-packages (from webdriver_manager) (1.0.0)\n",
      "Requirement already satisfied: pyparsing!=3.0.5,>=2.0.2 in c:\\users\\user\\anaconda3\\lib\\site-packages (from packaging->webdriver_manager) (3.0.9)\n",
      "Requirement already satisfied: urllib3<1.27,>=1.21.1 in c:\\users\\user\\anaconda3\\lib\\site-packages (from requests->webdriver_manager) (1.26.11)\n",
      "Requirement already satisfied: certifi>=2017.4.17 in c:\\users\\user\\anaconda3\\lib\\site-packages (from requests->webdriver_manager) (2022.9.14)\n",
      "Requirement already satisfied: charset-normalizer<3,>=2 in c:\\users\\user\\anaconda3\\lib\\site-packages (from requests->webdriver_manager) (2.0.4)\n",
      "Requirement already satisfied: idna<4,>=2.5 in c:\\users\\user\\anaconda3\\lib\\site-packages (from requests->webdriver_manager) (3.3)\n",
      "Note: you may need to restart the kernel to use updated packages.\n"
     ]
    }
   ],
   "source": [
    "pip install webdriver_manager"
   ]
  },
  {
   "cell_type": "code",
   "execution_count": 1,
   "id": "1afce377",
   "metadata": {},
   "outputs": [
    {
     "name": "stdout",
     "output_type": "stream",
     "text": [
      "4.8.2\n"
     ]
    }
   ],
   "source": [
    "from bs4 import BeautifulSoup\n",
    "import selenium\n",
    "from selenium import webdriver\n",
    "from selenium.webdriver.chrome.service import Service\n",
    "from selenium.webdriver.chrome.options import Options\n",
    "from webdriver_manager.chrome import ChromeDriverManager\n",
    "import pandas as pd\n",
    "import numpy as np\n",
    "import time\n",
    "from selenium.webdriver.common.by import By\n",
    "from selenium.webdriver.common.keys import Keys\n",
    "from selenium.webdriver.support.ui import WebDriverWait\n",
    "from selenium.webdriver.support import expected_conditions as EC\n",
    "import re\n",
    "print(selenium.__version__)"
   ]
  },
  {
   "cell_type": "code",
   "execution_count": 4,
   "id": "fbdea6c3",
   "metadata": {},
   "outputs": [
    {
     "name": "stdout",
     "output_type": "stream",
     "text": [
      "   codimap_category codimap_title codimap_date   views comment_numbers\n",
      "0               캐주얼        톤온톤 코디     21.07.02  17,238              50\n",
      "1               캐주얼        블랙 매니아     21.02.23  36,306              47\n",
      "2               캐주얼        오늘의 코디     22.03.22  13,384              44\n",
      "3                댄디       추천 댄디 룩     21.09.15  21,581              32\n",
      "4               캐주얼         릴랙스 룩     21.02.23  24,014              25\n",
      "5               스트릿        힙하다 힙해     21.02.03  36,067              24\n",
      "6                댄디        데이트 코디     21.12.24  10,957              19\n",
      "7               캐주얼        심플한 코디     21.07.30  41,342              18\n",
      "8                댄디       훈훈 남친 룩     21.03.24  19,985              17\n",
      "9                댄디      서머 데이트 룩     21.07.26   8,354              17\n",
      "10               댄디     남친 룩으로 제격     21.12.24  10,174              17\n",
      "11              캐주얼      지금 입기 좋아     21.08.31  20,880              16\n",
      "12              캐주얼        꾸안꾸 코디     22.11.04   5,193              15\n",
      "13             아메카지      아메리칸 캐주얼     21.12.21   5,833              14\n",
      "14          비즈니스캐주얼       깔끔하게 즐겨     21.11.09   6,602              13\n",
      "15             아메카지        남다른 감각     21.11.17   5,069              11\n",
      "16              캐주얼       편안함의 완성     21.10.04  20,067              11\n",
      "17              캐주얼        편하게 완성     21.07.21  15,328              10\n",
      "18              캐주얼       원 마일 웨어     21.10.08  17,062              10\n",
      "19          비즈니스캐주얼     매력적인 포멀 룩     21.09.17  11,718              10\n",
      "20              캐주얼      레이어드의 매력     21.06.04  12,775               9\n",
      "21               댄디      레이어드의 매력     21.11.23  10,536               8\n",
      "22              캐주얼       잘 고른 재킷     20.10.28  20,850               8\n",
      "23              캐주얼       발랄함 가득!     21.07.05   3,230               8\n",
      "24          비즈니스캐주얼        깔끔한 매력     21.03.08  14,001               8\n",
      "25               댄디      남친 룩의 정석     20.11.04  16,647               8\n",
      "26               시크        시크한 감각     21.08.20   3,902               8\n",
      "27              캐주얼      서머 캠퍼스 룩     22.07.19   3,343               8\n",
      "28          비즈니스캐주얼     손색 없는 단정함     21.11.12   3,382               8\n",
      "29               댄디       훈훈한 스타일     21.12.29   3,683               7\n",
      "30              캐주얼       러블리 캐주얼     20.11.18  10,821               7\n",
      "31              캐주얼        오늘의 무드     21.12.06   7,060               7\n",
      "32          비즈니스캐주얼        단정한 모습     21.11.26   5,881               7\n",
      "33             아메카지        색감에 반해     22.11.02   7,508               7\n",
      "34             아메카지    센스 있는 아메카지     22.10.26   8,429               7\n",
      "35              캐주얼         캠퍼스 룩     21.07.12   7,458               7\n",
      "36              캐주얼     캐주얼 룩의 정석     20.11.06  16,422               7\n",
      "37             아메카지      아메카지의 정석     22.11.21   9,141               6\n",
      "38               댄디       레더 스타일링     21.09.28   8,267               6\n",
      "39          비즈니스캐주얼      클래식한 실루엣     21.01.15   4,401               6\n",
      "40              캐주얼     귀여운 프레피 룩     21.06.04  12,362               6\n",
      "41               댄디       데이트하는 날     21.09.07  17,886               6\n",
      "42              스트릿      따라 입고 싶어     21.08.30   2,270               6\n",
      "43              캐주얼       남친 룩 추천     21.06.11  11,040               6\n",
      "44              캐주얼       피크닉 가자!     21.08.20   2,818               6\n",
      "45             아메카지      실패 없는 코디     21.06.11   8,422               6\n",
      "46             아메카지       아메카지 무드     22.11.10   6,509               6\n",
      "47             아메카지       아메카지 무드     22.06.17   4,888               6\n",
      "48          비즈니스캐주얼        깔끔한 연출     21.11.10   3,718               6\n",
      "49          비즈니스캐주얼      완벽한 스타일링     21.09.15   4,221               6\n",
      "50              로맨틱      레트로 스타일링     21.05.17   2,336               6\n",
      "51          비즈니스캐주얼     데이트 룩 완성!     21.02.08  10,903               5\n",
      "52              캐주얼        가볍게 툭!     21.05.31   3,502               5\n",
      "53              캐주얼        레트로 무드     21.03.12  11,757               5\n",
      "54              캐주얼       활동하기 최고     21.09.23   6,528               5\n",
      "55              캐주얼       그린 포인트!     21.05.28   5,518               5\n",
      "56              스트릿     스트라이프 활용법     21.02.19   2,880               5\n",
      "57              캐주얼     캐주얼 룩의 정석     21.03.12  11,201               5\n",
      "58              캐주얼       멋 내는 방법     21.07.02   5,990               5\n",
      "59              캐주얼      편하게 멋 내봐     21.09.08  11,741               5\n"
     ]
    }
   ],
   "source": [
    "from bs4 import BeautifulSoup\n",
    "import requests\n",
    "import pandas as pd\n",
    "\n",
    "url = \"https://www.musinsa.com/app/codimap/lists?style_type=&tag_no=&brand=&display_cnt=60&list_kind=big&sort=comment_cnt&page=1\"\n",
    "\n",
    "headers = {\n",
    "    'User-Agent': 'Mozilla/5.0 (Windows NT 10.0; Win64; x64) AppleWebKit/537.36 (KHTML, like Gecko) Chrome/58.0.3029.110 Safari/537.3'\n",
    "}\n",
    "\n",
    "res = requests.get(url, headers=headers)\n",
    "res.raise_for_status()\n",
    "\n",
    "soup = BeautifulSoup(res.text, 'lxml')\n",
    "\n",
    "style_items = soup.find_all('li', attrs={'class':'style-list-item'})\n",
    "\n",
    "data = []\n",
    "\n",
    "for style_item in style_items:\n",
    "    codimap_category = style_item.find('span', attrs={'class':'style-list-information__text'}).get_text()\n",
    "    codimap_title = style_item.find('strong', attrs={'class':'style-list-information__title'}).get_text()\n",
    "    codimap_date = style_item.find('div', attrs={'class':'post-information'}).find_all('span', attrs={'class':'post-information__text'})[0].get_text()\n",
    "    views = style_item.find('div', attrs={'class':'post-information'}).find_all('span', attrs={'class':'post-information__text'})[1].get_text().replace('조회 ', '')\n",
    "    comment_numbers = style_item.find('div', attrs={'class':'post-information'}).find_all('span', attrs={'class':'post-information__text'})[2].get_text().replace('댓글 ', '')\n",
    "\n",
    "    data.append([codimap_category, codimap_title, codimap_date, views, comment_numbers])\n",
    "\n",
    "df = pd.DataFrame(data, columns=['codimap_category', 'codimap_title', 'codimap_date', 'views', 'comment_numbers'])\n",
    "\n",
    "print(df)\n"
   ]
  },
  {
   "cell_type": "code",
   "execution_count": 6,
   "id": "76d7fe1b",
   "metadata": {},
   "outputs": [],
   "source": [
    "df.to_csv('0105_크롤링_김대솔_필수과제.csv', index=False, encoding='utf-8-sig')"
   ]
  }
 ],
 "metadata": {
  "kernelspec": {
   "display_name": "Python 3 (ipykernel)",
   "language": "python",
   "name": "python3"
  },
  "language_info": {
   "codemirror_mode": {
    "name": "ipython",
    "version": 3
   },
   "file_extension": ".py",
   "mimetype": "text/x-python",
   "name": "python",
   "nbconvert_exporter": "python",
   "pygments_lexer": "ipython3",
   "version": "3.9.13"
  }
 },
 "nbformat": 4,
 "nbformat_minor": 5
}
